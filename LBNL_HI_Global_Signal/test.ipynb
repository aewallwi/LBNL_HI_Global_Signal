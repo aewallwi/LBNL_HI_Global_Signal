{
 "cells": [
  {
   "cell_type": "code",
   "execution_count": 6,
   "metadata": {},
   "outputs": [
    {
     "name": "stdout",
     "output_type": "stream",
     "text": [
      "The autoreload extension is already loaded. To reload it, use:\n",
      "  %reload_ext autoreload\n"
     ]
    }
   ],
   "source": [
    "%load_ext autoreload\n",
    "%autoreload 2"
   ]
  },
  {
   "cell_type": "code",
   "execution_count": 7,
   "metadata": {},
   "outputs": [],
   "source": [
    "import ares\n",
    "import beams\n",
    "import healpy as hp"
   ]
  },
  {
   "cell_type": "code",
   "execution_count": 8,
   "metadata": {},
   "outputs": [
    {
     "name": "stdout",
     "output_type": "stream",
     "text": [
      "# Loaded $ARES/input/inits/inits_planck_TTTEEE_lowl_lowE_best.txt.\n",
      "\n",
      "##############################################################################################################\n",
      "####                                      ARES Simulation: Overview                                       ####\n",
      "##############################################################################################################\n",
      "#### ---------------------------------------------------------------------------------------------------- ####\n",
      "#### Source Populations                                                                                   ####\n",
      "#### ---------------------------------------------------------------------------------------------------- ####\n",
      "####               sfrd      sed    radio    O/IR    Ly-a     LW     Ly-C   X-ray    RTE                  ####\n",
      "#### pop #0  :    fcoll      yes                      x       x                                           ####\n",
      "#### pop #1  : link:sfrd:0   yes                                              x                           ####\n",
      "#### pop #2  : link:sfrd:0   yes                                      x                                   ####\n",
      "#### ---------------------------------------------------------------------------------------------------- ####\n",
      "#### Physics                                                                                              ####\n",
      "#### ---------------------------------------------------------------------------------------------------- ####\n",
      "#### cgm_initial_temperature        : [10000.0]                                                           ####\n",
      "#### clumping_factor                : 1                                                                   ####\n",
      "#### secondary_ionization           : 1                                                                   ####\n",
      "#### approx_Salpha                  : 1                                                                   ####\n",
      "#### include_He                     : False                                                               ####\n",
      "#### feedback_LW                    : False                                                               ####\n",
      "##############################################################################################################\n",
      "# Loaded $ARES/input/hmf/hmf_ST_planck_TTTEEE_lowl_lowE_best_logM_1400_4-18_z_1201_0-60.hdf5.\n"
     ]
    }
   ],
   "source": [
    "# get ARES global signal\n",
    "\n",
    "sim = ares.simulations.Global21cm()\n",
    "sim.run()\n",
    "temp = sim.history['dTb']\n",
    "frequencies = sim.history['nu']"
   ]
  },
  {
   "cell_type": "code",
   "execution_count": 9,
   "metadata": {},
   "outputs": [
    {
     "data": {
      "image/png": "[encoded data removed]",
      "text/plain": [
       "<Figure size 432x288 with 1 Axes>"
      ]
     },
     "metadata": {
      "needs_background": "light"
     },
     "output_type": "display_data"
    }
   ],
   "source": [
    "from matplotlib import pyplot as plt\n",
    "plt.figure(); plt.plot(frequencies, temp); plt.xlabel(r'$\\nu$ (MHz)'); plt.ylabel('T (mK)'); plt.show()"
   ]
  },
  {
   "cell_type": "code",
   "execution_count": 10,
   "metadata": {},
   "outputs": [
    {
     "name": "stdout",
     "output_type": "stream",
     "text": [
      "3\n"
     ]
    }
   ],
   "source": [
    "import glob\n",
    "filename_list = glob.glob(\"hera_vivaldi_conductors_only/test_dir/\" + \"*.txt\")\n",
    "print(len(filename_list))"
   ]
  },
  {
   "cell_type": "code",
   "execution_count": null,
   "metadata": {},
   "outputs": [],
   "source": [
    "# in healpix coordinates since convert_to_healpix = True\n",
    "beam = beams.convert_amp_phase_txt_to_uvbeam(\"hera_vivaldi_conductors_only/test_dir/\",\n",
    "                                             beam_type=\"efield\",\n",
    "                                             telescope_name=\"EIGSEP\",\n",
    "                                             feed_name=\"hera_vivaldi\",\n",
    "                                             feed_version=\"v0\",\n",
    "                                             model_name=\"hera_phaseii_conductors_only\",\n",
    "                                             model_version=\"v0\",\n",
    "                                             history=\"\",\n",
    "                                             feed_pol=\"x\",\n",
    "                                             rotate_pol=True,\n",
    "                                             x_orientation=\"north\",\n",
    "                                             efield_to_power=True,\n",
    "                                             convert_to_healpix=True,\n",
    "                                             nside=64,\n",
    "                                             save=False,\n",
    "                                             output_file=None,\n",
    "                                             clobber=False,\n",
    "                                             interpolation_function='az_za_simple',\n",
    "                                             funits='GHz')"
   ]
  },
  {
   "cell_type": "code",
   "execution_count": null,
   "metadata": {},
   "outputs": [],
   "source": [
    "def temp2intensity(temperature, frequencies):\n",
    "    \"\"\"\n",
    "    Use Rayleigh-Jeans. Assumes T in mK and nu in MHz.\n",
    "    \"\"\"\n",
    "    # SI units\n",
    "    c = 3e8\n",
    "    k = 1.38e-23\n",
    "    \n",
    "    f_Hz = frequencies * 1e6\n",
    "    t_K = temperature/1e3\n",
    "    \n",
    "    I = 2*k/c**2 * f_Hz**2 * t_K\n",
    "    I *= 1e26  # convert to Jy/Sr\n",
    "    return I"
   ]
  },
  {
   "cell_type": "code",
   "execution_count": null,
   "metadata": {},
   "outputs": [],
   "source": [
    "intensity_global = temp2intensity(temp, frequencies)"
   ]
  },
  {
   "cell_type": "code",
   "execution_count": null,
   "metadata": {},
   "outputs": [],
   "source": [
    "def intensity_healpix(healpix_array, intensity):\n",
    "    return"
   ]
  },
  {
   "cell_type": "code",
   "execution_count": null,
   "metadata": {},
   "outputs": [],
   "source": [
    "def compute_visibilities(intensity_21cm, beam):\n",
    "    # return integral of the product"
   ]
  },
  {
   "cell_type": "code",
   "execution_count": null,
   "metadata": {},
   "outputs": [],
   "source": []
  }
 ],
 "metadata": {
  "kernelspec": {
   "display_name": "Python 3 (ipykernel)",
   "language": "python",
   "name": "python3"
  },
  "language_info": {
   "codemirror_mode": {
    "name": "ipython",
    "version": 3
   },
   "file_extension": ".py",
   "mimetype": "text/x-python",
   "name": "python",
   "nbconvert_exporter": "python",
   "pygments_lexer": "ipython3",
   "version": "3.8.3"
  }
 },
 "nbformat": 4,
 "nbformat_minor": 4
}
